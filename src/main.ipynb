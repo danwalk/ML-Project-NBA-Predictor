{
 "cells": [
  {
   "cell_type": "code",
   "execution_count": 1,
   "metadata": {},
   "outputs": [],
   "source": [
    "from utils.models import runfullseasonpredictor\r\n",
    "from utils.mining_data_tb import getnbafromoddsportal\r\n",
    "from utils.mining_data_tb import getnbafrommassey\r\n",
    "from utils.sql_tb import nbacleantomysql\r\n",
    "from utils.folders_tb import opennbacsv\r\n",
    "from utils.folders_tb import openmodelresults\r\n",
    "from utils.sql_tb import getpredictiontablefromsql\r\n",
    "from utils.sql_tb import getfullnbatablefromsql\r\n",
    "from utils.models import gamepredictor\r\n",
    "from utils.models import multimodelcomparision\r\n",
    "from utils.models import runfullseasonpredictor"
   ]
  },
  {
   "cell_type": "markdown",
   "metadata": {},
   "source": [
    "# <u> Collect Data </u>\r\n",
    "\r\n",
    "This project is obtained from two websites via webscraping, <u>https://masseyratings.com/nba/games </u> and <u>https://www.oddsportal.com/basketball/usa/nba/results/#/page/1 </u>.\r\n",
    "\r\n",
    "Each game is sent to a json dictionary in the DATA folder and joined together with the relevant information from each page into a file called <u>nbaclean.csv</u> which is also sent to mySQL into the table named <u>daniel_walker</u>.\r\n",
    "\r\n",
    "### **Beware, each may take up to a few hours to complete.**\r\n"
   ]
  },
  {
   "cell_type": "code",
   "execution_count": null,
   "metadata": {},
   "outputs": [],
   "source": [
    "# BEWARE, THESE FUNCTIONS TAKE HOURS TO COMPLETE, to avoid unexpected errors the dictionaries made to jsons are set up to use new files instead of overwriting the existing ones\r\n",
    "\r\n",
    "getnbafrommassey('https://masseyratings.com/nba/games?dt=20210601', maxdate=(datetime.today().strftime('%Y%m%d')))\r\n",
    "\r\n",
    "getnbafromoddsportal(2)"
   ]
  },
  {
   "cell_type": "code",
   "execution_count": 2,
   "metadata": {},
   "outputs": [
    {
     "name": "stdout",
     "output_type": "stream",
     "text": [
      "nbaclean.csv appended to daniel_walker table in database\n"
     ]
    },
    {
     "data": {
      "text/plain": [
       "'Done'"
      ]
     },
     "execution_count": 2,
     "metadata": {},
     "output_type": "execute_result"
    }
   ],
   "source": [
    "nbacleantomysql(\"nbaclean.csv\")"
   ]
  },
  {
   "cell_type": "markdown",
   "metadata": {},
   "source": [
    "# <u> Game Prediction</u>\r\n",
    "\r\n",
    "To make the first prediction, the program is given a team name, the game number that needs to be predicted, the regressor to be used and a variable.\r\n",
    "\r\n",
    "The function will print the useful information regarding the game, the prediction, and also the result to see if the prediction was correct.\r\n",
    "\r\n",
    "\r\n",
    "### **The function can also be called from the Streamlit app.**"
   ]
  },
  {
   "cell_type": "code",
   "execution_count": 4,
   "metadata": {},
   "outputs": [
    {
     "name": "stdout",
     "output_type": "stream",
     "text": [
      "Utah Jazz in game 30 vs Los Angeles Clippers\n",
      "-----------------------------\n",
      "Bookies predicted points for Utah Jazz is: 111\n",
      "Utah Jazz last 10 games scoring Avg is: 120.38\n",
      "Over the previous 10 games Los Angeles Clippers receiving Avg is: 110.7\n",
      "In Los Angeles Clippers previous 10 games, 7.0 of their games have gone over the bookies prediction\n",
      "SYSTEM PREDICTED score:  119.8\n",
      "Using the variable prediction, the programs recommendation is: Not conclusive\n",
      "The SYSTEMS STRAIGHT PREDICTION is: Over the bookies prediction\n",
      "-----------------------------\n",
      "Final Score (Real):  114\n",
      "The SYSTEM STRAIGHT PREDICTION was:  Correct\n",
      "-----------------------------\n"
     ]
    }
   ],
   "source": [
    "Team = \"Utah Jazz\"\r\n",
    "Gamenumber = 30\r\n",
    "regressor = \"DecisionTreeRegressor\"\r\n",
    "eon = \"mse\" #eon means ESTIMATOR (used in RandomForestRegressor, recommend 100), CRITERION (used in DecisionTreeRegressor, recommend mse) or\r\n",
    "        #N_NEIGHBORS (used in KNeighborsRegressor, recommend 4)\r\n",
    "\r\n",
    "\r\n",
    "gamepredictor(Team, Gamenumber, regressor= regressor, eon=eon)"
   ]
  },
  {
   "cell_type": "markdown",
   "metadata": {},
   "source": [
    "# <u> Generate Whole Season Prediction Results For Each Team And/Or Each Model </u>\r\n",
    "\r\n",
    "Run this function with a list of Team Names and a list from the 10 regression models below. The models will run using their default settings. \r\n",
    "\r\n",
    "The function will print a line graph and a donut graph for each team and each model given in the lists. It will print a shortend results DF, it will also save the two images in RESOURCES and then two CSV files with a summary of the overall results and detailed Game-By-Game results for any further analysis required.\r\n",
    "\r\n",
    "BayesianRidge\r\n",
    "\r\n",
    "DecisionTreeRegressor\r\n",
    "\r\n",
    "GaussianProcessRegressor\r\n",
    "\r\n",
    "GradientBoostingRegressor\r\n",
    "\r\n",
    "KNeighborsRegressor\r\n",
    "\r\n",
    "LinearRegression\r\n",
    "\r\n",
    "RadiusNeighborsRegressor\r\n",
    "\r\n",
    "RandomForestRegressor\r\n",
    "\r\n",
    "RidgeCV\r\n",
    "\r\n",
    "SVR\r\n",
    "\r\n",
    "### **This function can also be called from the Streamlit app.**\r\n"
   ]
  },
  {
   "cell_type": "code",
   "execution_count": null,
   "metadata": {},
   "outputs": [],
   "source": [
    "Team = [\"Atlanta Hawks\"]\r\n",
    "regressorlist = [\"DecisionTreeRegressor\"]\r\n",
    "eon = \"mae\" #eon means ESTIMATOR (used in RandomForestRegressor, recommend 100), CRITERION (used in DecisionTreeRegressor, recommend mse) or\r\n",
    "        #N_NEIGHBORS (used in KNeighborsRegressor, recommend 4)\r\n",
    "\r\n",
    "multimodelcomparision(Team, regressorlist, eon, returnsummary=True)"
   ]
  },
  {
   "cell_type": "markdown",
   "metadata": {},
   "source": [
    "# <u>Run function that takes a regressor or a list of regressors and then a variable to simulate the season and store the overall results in csv and mySQL </u>\r\n",
    "The function simulates the whole season from game 10, game by game, team by team.\r\n",
    "For each game the program trains and fits each model and makes a prediction using information from the previous 10 games.\r\n",
    "The prediction made for each game is whether the predicted team score will be greater or lower than the bookies prediction.\r\n",
    "If this prediction was correct, then that game would win the 1€ bet (returns 0.83€ as the odds are 1.83), if the prediction loses, then the 1€ bet is lost.\r\n",
    "The teams results are stored in a dataframe to then be inserted into another function which totals up the columns and appends the overall results for the regressor and variable into a csv file and into a mySQL table named prediction.\r\n",
    "\r\n",
    "For each game and each team <u>(1860 games)</u> a model is fitted with the scores available from the previous 10 games. This means that not every model is saved. The first model is saved in the MODELS folder.\r\n",
    "\r\n",
    "## The following regressors can be used:\r\n",
    "BayesianRidge\r\n",
    "\r\n",
    "DecisionTreeRegressor\r\n",
    "\r\n",
    "GaussianProcessRegressor\r\n",
    "\r\n",
    "GradientBoostingRegressor\r\n",
    "\r\n",
    "KNeighborsRegressor\r\n",
    "\r\n",
    "LinearRegression\r\n",
    "\r\n",
    "RadiusNeighborsRegressor\r\n",
    "\r\n",
    "RandomForestRegressor\r\n",
    "\r\n",
    "RidgeCV\r\n",
    "\r\n",
    "SVR\r\n",
    "\r\n",
    "### **This function can also be called from the Streamlit app.**"
   ]
  },
  {
   "cell_type": "code",
   "execution_count": null,
   "metadata": {},
   "outputs": [],
   "source": [
    "regressor = [\"SVR\"]\r\n",
    "eon = 0.17 #eon means ESTIMATOR (used in RandomForestRegressor, recommend 100), CRITERION (used in DecisionTreeRegressor, recommend mse) or\r\n",
    "        #N_NEIGHBORS (used in KNeighborsRegressor, recommend 4)\r\n",
    "\r\n",
    "runfullseasonpredictor(regressor, eon)"
   ]
  },
  {
   "cell_type": "markdown",
   "metadata": {},
   "source": [
    "# <u>View these DataFrames from either DATA csv files or from mySQL:</u>\r\n",
    "\r\n",
    "Cleaned dataset without % formats and without unnecessary columns.\r\n",
    "\r\n",
    "Overall Model Results\r\n",
    "\r\n",
    "### **This function can also be called from the Streamlit app.**"
   ]
  },
  {
   "cell_type": "code",
   "execution_count": null,
   "metadata": {},
   "outputs": [],
   "source": [
    "opennbacsv(\"nbaclean.csv\")"
   ]
  },
  {
   "cell_type": "code",
   "execution_count": null,
   "metadata": {},
   "outputs": [],
   "source": [
    "getfullnbatablefromsql()"
   ]
  },
  {
   "cell_type": "code",
   "execution_count": null,
   "metadata": {},
   "outputs": [],
   "source": [
    "openmodelresults(\"modelresults.csv\")"
   ]
  },
  {
   "cell_type": "code",
   "execution_count": null,
   "metadata": {},
   "outputs": [],
   "source": [
    "getpredictiontablefromsql()"
   ]
  }
 ],
 "metadata": {
  "interpreter": {
   "hash": "16eb897c26cdfcf18817bc60a8e0737e3939ff1e8491198c807979170104e811"
  },
  "kernelspec": {
   "display_name": "Python 3.7.4 64-bit",
   "name": "python3"
  },
  "language_info": {
   "codemirror_mode": {
    "name": "ipython",
    "version": 3
   },
   "file_extension": ".py",
   "mimetype": "text/x-python",
   "name": "python",
   "nbconvert_exporter": "python",
   "pygments_lexer": "ipython3",
   "version": "3.7.4"
  },
  "orig_nbformat": 2
 },
 "nbformat": 4,
 "nbformat_minor": 2
}
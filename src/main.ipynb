{
 "cells": [
  {
   "cell_type": "code",
   "execution_count": 1,
   "metadata": {},
   "outputs": [],
   "source": [
    "from utils.models import runfullseasonpredictor\r\n",
    "from utils.mining_data_tb import getnbafromoddsportal\r\n",
    "from utils.mining_data_tb import getnbafrommassey\r\n",
    "from utils.sql_tb import nbacleantomysql\r\n",
    "from utils.folders_tb import opennbacsv\r\n",
    "from utils.folders_tb import openmodelresults\r\n",
    "from utils.sql_tb import getpredictiontablefromsql\r\n",
    "from utils.sql_tb import getfullnbatablefromsql\r\n",
    "from utils.models import gamepredictor\r\n",
    "from utils.models import runteamseasonpredictor\r\n",
    "from utils.dataframes import showtotalresultsforateam"
   ]
  },
  {
   "cell_type": "markdown",
   "metadata": {},
   "source": [
    "# <u> Collect data </u>\r\n",
    "\r\n",
    "This project is obtained from two websites via webscraping, <u>https://masseyratings.com/nba/games </u> and <u>https://www.oddsportal.com/basketball/usa/nba/results/#/page/1 </u>.\r\n",
    "\r\n",
    "Each game is sent to a json dictionary in the DATA folder and joined together with the relevant information from each page into a file called <u>nbaclean.csv</u> which is also sent to mySQL into the table named <u>daniel_walker</u>.\r\n",
    "\r\n",
    "### **Beware, each may take up to a few hours to complete.**\r\n"
   ]
  },
  {
   "cell_type": "code",
   "execution_count": null,
   "metadata": {},
   "outputs": [],
   "source": [
    "# BEWARE, THESE FUNCTIONS TAKE HOURS TO COMPLETE, to avoid unexpected errors the dictionaries made to jsons are set up to use new files instead of overwriting the existing ones\r\n",
    "\r\n",
    "getnbafrommassey('https://masseyratings.com/nba/games?dt=20210601', maxdate=(datetime.today().strftime('%Y%m%d')))\r\n",
    "\r\n",
    "getnbafromoddsportal(2)"
   ]
  },
  {
   "cell_type": "code",
   "execution_count": 2,
   "metadata": {},
   "outputs": [
    {
     "name": "stdout",
     "output_type": "stream",
     "text": [
      "nbaclean.csv appended to daniel_walker table in database\n"
     ]
    },
    {
     "data": {
      "text/plain": [
       "'Done'"
      ]
     },
     "execution_count": 2,
     "metadata": {},
     "output_type": "execute_result"
    }
   ],
   "source": [
    "nbacleantomysql(\"nbaclean.csv\")"
   ]
  },
  {
   "cell_type": "markdown",
   "metadata": {},
   "source": [
    "# <u> Game Prediction</u>\r\n",
    "\r\n",
    "To make the first prediction, the program is given a team name, the game number that needs to be predicted, the regressor to be used and a variable.\r\n",
    "\r\n",
    "The function will print the useful information regarding the game, the prediction, and also the result to see if the prediction was correct.\r\n",
    "\r\n",
    "\r\n",
    "### **The function can also be called from the Streamlit app.**"
   ]
  },
  {
   "cell_type": "code",
   "execution_count": 2,
   "metadata": {},
   "outputs": [
    {
     "name": "stdout",
     "output_type": "stream",
     "text": [
      "Utah Jazz in game 40 vs Boston Celtics\n",
      "-----------------------------\n",
      "Bookies predicted points for Utah Jazz is: 114\n",
      "Utah Jazz last 10 games scoring Avg is: 119.75\n",
      "Over the previous 10 games Boston Celtics receiving Avg is: 116.1\n",
      "In Boston Celtics previous 10 games, 8.0 of their games have gone over the bookies prediction\n",
      "SYSTEM PREDICTED score:  119.5\n",
      "Using the variable prediction, the programs recommendation is: Prediction is OVER 114\n",
      "The SYSTEMS STRAIGHT PREDICTION is Over the bookies prediction\n",
      "-----------------------------\n",
      "Final Score (Real):  117\n",
      "The SYSTEM STRAIGHT PREDICTION was:  Correct\n",
      "-----------------------------\n"
     ]
    }
   ],
   "source": [
    "Team = \"Utah Jazz\"\r\n",
    "Gamenumber = 40\r\n",
    "regressor = \"DecisionTreeRegressor\"\r\n",
    "eon = \"mse\" #eon means ESTIMATOR (used in RandomForestRegressor, recommend 100), CRITERION (used in DecisionTreeRegressor, recommend mse) or\r\n",
    "        #N_NEIGHBORS (used in KNeighborsRegressor, recommend 4)\r\n",
    "\r\n",
    "\r\n",
    "gamepredictor(Team, Gamenumber, regressor= regressor, eon=eon)"
   ]
  },
  {
   "cell_type": "markdown",
   "metadata": {},
   "source": [
    "# <u> View a teams season predictions game by game </u>\r\n",
    "\r\n",
    "Run \"runteamseasonpredictor()\" to return the DF detail for each game.\r\n",
    "\r\n",
    "Run \"showtotalresultsforateam()\" to generate a CSV into DATA and return the DF with the teams season predictions and bet return results.\r\n",
    "\r\n",
    "### **The function can also be called from the Streamlit app.**"
   ]
  },
  {
   "cell_type": "code",
   "execution_count": 4,
   "metadata": {},
   "outputs": [],
   "source": [
    "Team = \"New Orleans Pelicans\"\r\n",
    "regressor = \"RandomForestRegressor\"\r\n",
    "eon = 100 #eon means ESTIMATOR (used in RandomForestRegressor, recommend 100), CRITERION (used in DecisionTreeRegressor, recommend mse) or\r\n",
    "        #N_NEIGHBORS (used in KNeighborsRegressor, recommend 4)\r\n"
   ]
  },
  {
   "cell_type": "code",
   "execution_count": null,
   "metadata": {},
   "outputs": [],
   "source": [
    "runteamseasonpredictor(Team, regressor, eon)"
   ]
  },
  {
   "cell_type": "code",
   "execution_count": 5,
   "metadata": {},
   "outputs": [
    {
     "name": "stdout",
     "output_type": "stream",
     "text": [
      "Appending done\n"
     ]
    },
    {
     "data": {
      "text/html": [
       "<div>\n",
       "<style scoped>\n",
       "    .dataframe tbody tr th:only-of-type {\n",
       "        vertical-align: middle;\n",
       "    }\n",
       "\n",
       "    .dataframe tbody tr th {\n",
       "        vertical-align: top;\n",
       "    }\n",
       "\n",
       "    .dataframe thead th {\n",
       "        text-align: right;\n",
       "    }\n",
       "</style>\n",
       "<table border=\"1\" class=\"dataframe\">\n",
       "  <thead>\n",
       "    <tr style=\"text-align: right;\">\n",
       "      <th></th>\n",
       "      <th>Regressor</th>\n",
       "      <th>EstimatorsorNeigbor</th>\n",
       "      <th>ContainsNotConclusivePred</th>\n",
       "      <th>Totalgames</th>\n",
       "      <th>GamesRemovedPred0</th>\n",
       "      <th>TotalCorrect</th>\n",
       "      <th>Correct</th>\n",
       "      <th>BetReturn</th>\n",
       "      <th>BetProfit</th>\n",
       "      <th>TotalOversPred</th>\n",
       "      <th>TotalOversCorrect</th>\n",
       "      <th>OversCorrect</th>\n",
       "      <th>OversBetReturn</th>\n",
       "      <th>OversProfit</th>\n",
       "      <th>TotalUndersPred</th>\n",
       "      <th>TotalUndersCorrect</th>\n",
       "      <th>UndersCorrect</th>\n",
       "      <th>UndersBetReturn</th>\n",
       "      <th>UndersProfit</th>\n",
       "    </tr>\n",
       "  </thead>\n",
       "  <tbody>\n",
       "    <tr>\n",
       "      <th>0</th>\n",
       "      <td>RandomForestRegressor</td>\n",
       "      <td>100</td>\n",
       "      <td>True</td>\n",
       "      <td>62</td>\n",
       "      <td>1</td>\n",
       "      <td>38</td>\n",
       "      <td>61.29%</td>\n",
       "      <td>7.54</td>\n",
       "      <td>12.16%</td>\n",
       "      <td>39</td>\n",
       "      <td>24</td>\n",
       "      <td>61.54%</td>\n",
       "      <td>4.92</td>\n",
       "      <td>12.62%</td>\n",
       "      <td>23</td>\n",
       "      <td>14</td>\n",
       "      <td>60.87%</td>\n",
       "      <td>2.62</td>\n",
       "      <td>11.39%</td>\n",
       "    </tr>\n",
       "    <tr>\n",
       "      <th>1</th>\n",
       "      <td>RandomForestRegressor</td>\n",
       "      <td>100</td>\n",
       "      <td>False</td>\n",
       "      <td>16</td>\n",
       "      <td>0</td>\n",
       "      <td>13</td>\n",
       "      <td>81.25%</td>\n",
       "      <td>7.79</td>\n",
       "      <td>48.69%</td>\n",
       "      <td>7</td>\n",
       "      <td>6</td>\n",
       "      <td>85.71%</td>\n",
       "      <td>3.98</td>\n",
       "      <td>56.86%</td>\n",
       "      <td>9</td>\n",
       "      <td>7</td>\n",
       "      <td>77.78%</td>\n",
       "      <td>3.81</td>\n",
       "      <td>42.33%</td>\n",
       "    </tr>\n",
       "  </tbody>\n",
       "</table>\n",
       "</div>"
      ],
      "text/plain": [
       "               Regressor EstimatorsorNeigbor  ContainsNotConclusivePred  \\\n",
       "0  RandomForestRegressor                 100                       True   \n",
       "1  RandomForestRegressor                 100                      False   \n",
       "\n",
       "   Totalgames  GamesRemovedPred0  TotalCorrect Correct  BetReturn BetProfit  \\\n",
       "0          62                  1            38  61.29%       7.54    12.16%   \n",
       "1          16                  0            13  81.25%       7.79    48.69%   \n",
       "\n",
       "   TotalOversPred  TotalOversCorrect OversCorrect  OversBetReturn OversProfit  \\\n",
       "0              39                 24       61.54%            4.92      12.62%   \n",
       "1               7                  6       85.71%            3.98      56.86%   \n",
       "\n",
       "   TotalUndersPred  TotalUndersCorrect UndersCorrect  UndersBetReturn  \\\n",
       "0               23                  14        60.87%             2.62   \n",
       "1                9                   7        77.78%             3.81   \n",
       "\n",
       "  UndersProfit  \n",
       "0       11.39%  \n",
       "1       42.33%  "
      ]
     },
     "execution_count": 5,
     "metadata": {},
     "output_type": "execute_result"
    }
   ],
   "source": [
    "showtotalresultsforateam(Team, runteamseasonpredictor(Team, regressor, eon))"
   ]
  },
  {
   "cell_type": "markdown",
   "metadata": {},
   "source": [
    "# <u>Run function that takes a regressor or a list of regressors and then a variable to simulate the season and store the overall results in csv and mySQL </u>\r\n",
    "The function simulates the whole season from game 10, game by game, team by team.\r\n",
    "For each game the program trains and fits each model and makes a prediction using information from the previous 10 games.\r\n",
    "The prediction made for each game is whether the predicted team score will be greater or lower than the bookies prediction.\r\n",
    "If this prediction was correct, then that game would win the 1€ bet (returns 0.83€ as the odds are 1.83), if the prediction loses, then the 1€ bet is lost.\r\n",
    "The teams results are stored in a dataframe to then be inserted into another function which totals up the columns and appends the overall results for the regressor and variable into a csv file and into a mySQL table named prediction.\r\n",
    "\r\n",
    "For each game and each team <u>(1860 games)</u> a model is fitted with the scores available from the previous 10 games. This means that not every model is saved. The first model is saved in the MODELS folder.\r\n",
    "\r\n",
    "## The following regressors can be used:\r\n",
    "BayesianRidge\r\n",
    "\r\n",
    "DecisionTreeRegressor\r\n",
    "\r\n",
    "GaussianProcessRegressor\r\n",
    "\r\n",
    "GradientBoostingRegressor\r\n",
    "\r\n",
    "KNeighborsRegressor\r\n",
    "\r\n",
    "LinearRegression\r\n",
    "\r\n",
    "RadiusNeighborsRegressor\r\n",
    "\r\n",
    "RandomForestRegressor\r\n",
    "\r\n",
    "RidgeCV\r\n",
    "\r\n",
    "SVR\r\n",
    "\r\n",
    "### **This function can also be called from the Streamlit app.**"
   ]
  },
  {
   "cell_type": "code",
   "execution_count": 10,
   "metadata": {},
   "outputs": [
    {
     "name": "stdout",
     "output_type": "stream",
     "text": [
      "DecisionTreeRegressor\n",
      "Model Pickle Saved\n",
      "Model result appended to prediction table in database\n",
      "Appending done\n"
     ]
    },
    {
     "data": {
      "text/plain": [
       "'Done'"
      ]
     },
     "execution_count": 10,
     "metadata": {},
     "output_type": "execute_result"
    }
   ],
   "source": [
    "regressor = [\"DecisionTreeRegressor\"]\r\n",
    "eon = \"mse\" #eon means ESTIMATOR (used in RandomForestRegressor, recommend 100), CRITERION (used in DecisionTreeRegressor, recommend mse) or\r\n",
    "        #N_NEIGHBORS (used in KNeighborsRegressor, recommend 4)\r\n",
    "\r\n",
    "runfullseasonpredictor(regressor, eon)"
   ]
  },
  {
   "cell_type": "markdown",
   "metadata": {},
   "source": [
    "# <u>View these DataFrames from either DATA csv files or from mySQL:</u>\r\n",
    "\r\n",
    "Cleaned dataset without % formats and without unnecessary columns.\r\n",
    "\r\n",
    "Overall Model Results\r\n",
    "\r\n",
    "### **This function can also be called from the Streamlit app.**"
   ]
  },
  {
   "cell_type": "code",
   "execution_count": null,
   "metadata": {},
   "outputs": [],
   "source": [
    "opennbacsv(\"nbaclean.csv\")"
   ]
  },
  {
   "cell_type": "code",
   "execution_count": null,
   "metadata": {},
   "outputs": [],
   "source": [
    "getfullnbatablefromsql()"
   ]
  },
  {
   "cell_type": "code",
   "execution_count": null,
   "metadata": {},
   "outputs": [],
   "source": [
    "openmodelresults(\"modelresults.csv\")"
   ]
  },
  {
   "cell_type": "code",
   "execution_count": null,
   "metadata": {},
   "outputs": [],
   "source": [
    "getpredictiontablefromsql()"
   ]
  }
 ],
 "metadata": {
  "interpreter": {
   "hash": "16eb897c26cdfcf18817bc60a8e0737e3939ff1e8491198c807979170104e811"
  },
  "kernelspec": {
   "display_name": "Python 3.7.4 64-bit",
   "name": "python3"
  },
  "language_info": {
   "codemirror_mode": {
    "name": "ipython",
    "version": 3
   },
   "file_extension": ".py",
   "mimetype": "text/x-python",
   "name": "python",
   "nbconvert_exporter": "python",
   "pygments_lexer": "ipython3",
   "version": "3.7.4"
  },
  "orig_nbformat": 2
 },
 "nbformat": 4,
 "nbformat_minor": 2
}
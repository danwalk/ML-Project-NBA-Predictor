{
 "cells": [
  {
   "cell_type": "code",
   "execution_count": 1,
   "metadata": {},
   "outputs": [],
   "source": [
    "from utils.models import runfullseasonpredictor\r\n",
    "from utils.mining_data_tb import getnbafromoddsportal\r\n",
    "from utils.mining_data_tb import getnbafrommassey\r\n",
    "from utils.sql_tb import nbacleantomysql\r\n",
    "from utils.folders_tb import opennbacsv\r\n",
    "from utils.folders_tb import openmodelresults\r\n",
    "from utils.sql_tb import getpredictiontablefromsql"
   ]
  },
  {
   "cell_type": "markdown",
   "metadata": {},
   "source": [
    "# Collect data\r\n",
    "\r\n",
    "The data used for this project is obtained from two websites via webscraping, https://masseyratings.com/nba/games and https://www.oddsportal.com/basketball/usa/nba/results/#/page/1 .\r\n",
    "\r\n",
    "Each game is sent to a json dictionary in the DATA folder and joined together with the relevant information from each page into a file called nbaclean.csv which is also sent to mySQL into the table named daniel_walker.\r\n",
    "\r\n",
    "### The functions can also be called from the Streamlit app. To use them you must uncomment them and each may take up to a few hours to complete.\r\n"
   ]
  },
  {
   "cell_type": "code",
   "execution_count": null,
   "metadata": {},
   "outputs": [],
   "source": [
    "# BEWARE, THESE FUNCTIONS TAKE HOURS TO COMPLETE, to avoid unexpected errors the dictionaries made to jsons are set up to use new files instead of overwriting the existing ones\r\n",
    "\r\n",
    "getnbafrommassey('https://masseyratings.com/nba/games?dt=20210601', maxdate=(datetime.today().strftime('%Y%m%d')))\r\n",
    "\r\n",
    "getnbafromoddsportal(2)"
   ]
  },
  {
   "cell_type": "code",
   "execution_count": 2,
   "metadata": {},
   "outputs": [
    {
     "name": "stdout",
     "output_type": "stream",
     "text": [
      "nbaclean.csv appended to daniel_walker table in database\n"
     ]
    },
    {
     "data": {
      "text/plain": [
       "'Done'"
      ]
     },
     "execution_count": 2,
     "metadata": {},
     "output_type": "execute_result"
    }
   ],
   "source": [
    "nbacleantomysql(\"nbaclean.csv\")"
   ]
  },
  {
   "cell_type": "markdown",
   "metadata": {},
   "source": [
    "# Run function that takes a list of regressors and a variable to simulate the season and store results in csv and mySQL\r\n",
    "The function simulates the whole season from game 10, game by game, team by team.\r\n",
    "For each game the program trains and fits each model and makes a prediction using information from the previous 10 games.\r\n",
    "The prediction made for each game is whether the predicted team score will be greater or lower than the bookies prediction.\r\n",
    "If this prediction was correct, then that game would win the 1€ bet (returns 0.83€ as the odds are 1.83), if the prediction loses, then the 1€ bet is lost.\r\n",
    "The teams results are stored in a dataframe to then be inserted into another function which totals up the columns and appends the overall results for the regressor and variable into a csv file and into a mySQL table named prediction.\r\n",
    "\r\n",
    "For each game and each team (1860 games) a model is fitted with the scores available from the previous 10 games. This means that not every model is saved. The first model is saved in the MODELS folder.\r\n",
    "\r\n",
    "## The following regressors can be used:\r\n",
    "BayesianRidge\r\n",
    "\r\n",
    "DecisionTreeRegressor\r\n",
    "\r\n",
    "GaussianProcessRegressor\r\n",
    "\r\n",
    "GradientBoostingRegressor\r\n",
    "\r\n",
    "KNeighborsRegressor\r\n",
    "\r\n",
    "LinearRegression\r\n",
    "\r\n",
    "RadiusNeighborsRegressor\r\n",
    "\r\n",
    "RandomForestRegressor\r\n",
    "\r\n",
    "RidgeCV\r\n",
    "\r\n",
    "SVR\r\n",
    "\r\n",
    "### This function can also be called from the Streamlit app."
   ]
  },
  {
   "cell_type": "code",
   "execution_count": 10,
   "metadata": {},
   "outputs": [
    {
     "name": "stdout",
     "output_type": "stream",
     "text": [
      "DecisionTreeRegressor\n",
      "Model Pickle Saved\n",
      "Model result appended to prediction table in database\n",
      "Appending done\n"
     ]
    },
    {
     "data": {
      "text/plain": [
       "'Done'"
      ]
     },
     "execution_count": 10,
     "metadata": {},
     "output_type": "execute_result"
    }
   ],
   "source": [
    "regressor = [\"DecisionTreeRegressor\"]\r\n",
    "eon = \"mse\" #eon means ESTIMATOR (used in RandomForestRegressor, recommend 100), CRITERION (used in DecisionTreeRegressor, recommend mse) or\r\n",
    "        #N_NEIGHBORS (used in KNeighborsRegressor, recommend 4)\r\n",
    "\r\n",
    "runfullseasonpredictor(regressor, eon)"
   ]
  },
  {
   "cell_type": "markdown",
   "metadata": {},
   "source": [
    "# View these DataFrames from either DATA csv files or from mySQL:\r\n",
    "\r\n",
    "Cleaned dataset without % formats and without unnecessary columns.\r\n",
    "\r\n",
    "Overall Model Results\r\n",
    "\r\n",
    "### This function can also be called from the Streamlit app."
   ]
  },
  {
   "cell_type": "code",
   "execution_count": null,
   "metadata": {},
   "outputs": [],
   "source": [
    "opennbacsv(\"nbaclean.csv\")"
   ]
  },
  {
   "cell_type": "code",
   "execution_count": null,
   "metadata": {},
   "outputs": [],
   "source": [
    "openmodelresults(\"modelresults.csv\")"
   ]
  },
  {
   "cell_type": "code",
   "execution_count": null,
   "metadata": {},
   "outputs": [],
   "source": [
    "getpredictiontablefromsql()"
   ]
  }
 ],
 "metadata": {
  "interpreter": {
   "hash": "16eb897c26cdfcf18817bc60a8e0737e3939ff1e8491198c807979170104e811"
  },
  "kernelspec": {
   "display_name": "Python 3.7.4 64-bit",
   "name": "python3"
  },
  "language_info": {
   "codemirror_mode": {
    "name": "ipython",
    "version": 3
   },
   "file_extension": ".py",
   "mimetype": "text/x-python",
   "name": "python",
   "nbconvert_exporter": "python",
   "pygments_lexer": "ipython3",
   "version": "3.7.4"
  },
  "orig_nbformat": 2
 },
 "nbformat": 4,
 "nbformat_minor": 2
}